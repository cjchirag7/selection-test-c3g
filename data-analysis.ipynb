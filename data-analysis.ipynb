{
 "cells": [
  {
   "cell_type": "markdown",
   "metadata": {},
   "source": [
    "# Analysing the given data\n",
    "\n",
    "The data is in XML-format in file 'bioinformatics_posts_se.xml'. It contains information of the posts made on the bioinformatics.stackexchange.com website (in 2020). The first task is to ingest this file in a sqlite database. Before that, let us analyse the data :"
   ]
  },
  {
   "cell_type": "code",
   "execution_count": 3,
   "metadata": {},
   "outputs": [
    {
     "name": "stdout",
     "output_type": "stream",
     "text": [
      "Root tag : posts\n",
      "\n",
      "Overall attributes in XML file : \n",
      "\n",
      " {'LastEditDate', 'Body', 'ViewCount', 'CommentCount', 'AnswerCount', 'LastActivityDate', 'AcceptedAnswerId', 'OwnerDisplayName', 'ParentId', 'Score', 'Title', 'OwnerUserId', 'PostTypeId', 'Tags', 'Id', 'CreationDate', 'LastEditorUserId', 'ClosedDate', 'FavoriteCount'}\n"
     ]
    }
   ],
   "source": [
    "import xml.etree.ElementTree as ET\n",
    "tree = ET.parse('bioinformatics_posts_se.xml')\n",
    "root = tree.getroot()\n",
    "print(\"Root tag : \"+root.tag)\n",
    "attrs=set()\n",
    "for child in root:\n",
    "    for attribute in child.attrib.keys():\n",
    "        attrs.add(attribute)\n",
    "print(\"\\nOverall attributes in XML file : \\n\\n\",attrs)"
   ]
  },
  {
   "cell_type": "code",
   "execution_count": 4,
   "metadata": {},
   "outputs": [
    {
     "name": "stdout",
     "output_type": "stream",
     "text": [
      "\n",
      "Attributes in Posts of Type 1 : \n",
      "\n",
      " {'CreationDate', 'Body', 'ViewCount', 'Title', 'LastEditorUserId', 'ClosedDate', 'AnswerCount', 'CommentCount', 'OwnerUserId', 'LastActivityDate', 'FavoriteCount', 'LastEditDate', 'PostTypeId', 'Tags', 'AcceptedAnswerId', 'OwnerDisplayName', 'Score', 'Id'}\n",
      "\n",
      "Attributes in Posts of Type 2 : \n",
      "\n",
      " {'CreationDate', 'Body', 'ParentId', 'LastEditorUserId', 'CommentCount', 'OwnerUserId', 'LastActivityDate', 'LastEditDate', 'PostTypeId', 'Score', 'Id'}\n",
      "\n",
      "Attributes in Posts of Type 4 : \n",
      "\n",
      " {'CreationDate', 'Body', 'LastEditorUserId', 'CommentCount', 'OwnerUserId', 'LastActivityDate', 'LastEditDate', 'PostTypeId', 'Score', 'Id'}\n",
      "\n",
      "Attributes in Posts of Type 5 : \n",
      "\n",
      " {'CreationDate', 'Body', 'LastEditorUserId', 'CommentCount', 'OwnerUserId', 'LastActivityDate', 'LastEditDate', 'PostTypeId', 'Score', 'Id'}\n"
     ]
    }
   ],
   "source": [
    "attrs1=set()\n",
    "attrs2=set()\n",
    "attrs4=set()\n",
    "attrs5=set()\n",
    "for child in root:\n",
    "    if child.attrib['PostTypeId']=='1':\n",
    "        for attribute in child.attrib.keys():\n",
    "            attrs1.add(attribute)\n",
    "    elif child.attrib['PostTypeId']=='2':\n",
    "        for attribute in child.attrib.keys():\n",
    "            attrs2.add(attribute)\n",
    "    elif child.attrib['PostTypeId']=='4':\n",
    "        for attribute in child.attrib.keys():\n",
    "            attrs4.add(attribute)\n",
    "    else :\n",
    "        for attribute in child.attrib.keys():\n",
    "            attrs5.add(attribute)\n",
    "print(\"\\nAttributes in Posts of Type 1 : \\n\\n\",attrs1)\n",
    "print(\"\\nAttributes in Posts of Type 2 : \\n\\n\",attrs2)\n",
    "print(\"\\nAttributes in Posts of Type 4 : \\n\\n\",attrs4)\n",
    "print(\"\\nAttributes in Posts of Type 5 : \\n\\n\",attrs5)"
   ]
  },
  {
   "cell_type": "code",
   "execution_count": 53,
   "metadata": {},
   "outputs": [],
   "source": [
    "#print(\"Values of all fields:\\n\")\n",
    "i=0\n",
    "null_values=0\n",
    "for child in root:\n",
    "    i=i+1   \n",
    "    #print(str(i)+'.\\n')\n",
    "    for attr in attrs:\n",
    "        if attr not in child.attrib:\n",
    "            #print(attr+' : '+'NULL')\n",
    "            null_values=null_values+1\n",
    "        else:\n",
    "            #print(attr+' : '+child.attrib[attr])\n",
    "            pass"
   ]
  },
  {
   "cell_type": "code",
   "execution_count": 54,
   "metadata": {},
   "outputs": [
    {
     "name": "stdout",
     "output_type": "stream",
     "text": [
      "Total rows : 434\n",
      "Total null values : 3371\n"
     ]
    }
   ],
   "source": [
    "print(\"Total rows : \"+str(i))\n",
    "print(\"Total null values : \"+str(null_values))"
   ]
  },
  {
   "cell_type": "markdown",
   "metadata": {},
   "source": [
    "# Some observations :\n",
    "\n",
    "* 'Id' of every post is unique . So, Id can be made a 'primary key' in posts table\n",
    "\n",
    "* 'Tags' and 'Posts' are having a many-to-many relationship. So, it is better to create a separate table post_tag_map that contains mapping from a PostId to a Tag.\n",
    "\n",
    "* As shown above, some of the properties are present only in Posts of Type 2,4 and 5 and some are present in Posts of Type 1 only, resulting in many NULL values. However, when designing the frontend, care should be taken to display the properties accordingly."
   ]
  }
 ],
 "metadata": {
  "kernelspec": {
   "display_name": "Python 3",
   "language": "python",
   "name": "python3"
  },
  "language_info": {
   "codemirror_mode": {
    "name": "ipython",
    "version": 3
   },
   "file_extension": ".py",
   "mimetype": "text/x-python",
   "name": "python",
   "nbconvert_exporter": "python",
   "pygments_lexer": "ipython3",
   "version": "3.7.5"
  }
 },
 "nbformat": 4,
 "nbformat_minor": 2
}
